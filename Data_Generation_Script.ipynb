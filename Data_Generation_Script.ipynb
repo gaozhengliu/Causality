{
  "nbformat": 4,
  "nbformat_minor": 0,
  "metadata": {
    "colab": {
      "name": "Data Generation Script.ipynb",
      "provenance": [],
      "collapsed_sections": [],
      "toc_visible": true,
      "include_colab_link": true
    },
    "kernelspec": {
      "name": "python3",
      "display_name": "Python 3"
    }
  },
  "cells": [
    {
      "cell_type": "markdown",
      "metadata": {
        "id": "view-in-github",
        "colab_type": "text"
      },
      "source": [
        "<a href=\"https://colab.research.google.com/github/gaozhengliu/Causality/blob/master/Data_Generation_Script.ipynb\" target=\"_parent\"><img src=\"https://colab.research.google.com/assets/colab-badge.svg\" alt=\"Open In Colab\"/></a>"
      ]
    },
    {
      "cell_type": "markdown",
      "metadata": {
        "id": "VAGbTMxEiE6t",
        "colab_type": "text"
      },
      "source": [
        "## **The purpose of this notebook is to create database tables that meet certain constraints, in order to foster detection of bias**\n"
      ]
    },
    {
      "cell_type": "markdown",
      "metadata": {
        "id": "FIH5qfz1iVBZ",
        "colab_type": "text"
      },
      "source": [
        "First dataset: Berkeley admissions data from 1973-1974\n",
        "\n",
        "We specify the distribution by specific subgroups.\n"
      ]
    },
    {
      "cell_type": "code",
      "metadata": {
        "id": "zjo8yVBwicQU",
        "colab_type": "code",
        "colab": {}
      },
      "source": [
        "#given distribution by sub-group\n",
        "\n",
        "dist = {}\n",
        "dist[\"men-deptA-admit\"] = (825, 62)\n",
        "dist[\"men-deptB-admit\"] = (560, 63)\n",
        "dist[\"men-deptC-admit\"] = (325, 37)\n",
        "dist[\"men-deptD-admit\"] = (417, 33)\n",
        "dist[\"men-deptE-admit\"] = (191, 28)\n",
        "dist[\"men-deptF-admit\"] = (373, 6)\n",
        "\n",
        "dist[\"women-deptA-admit\"] = (108, 82)\n",
        "dist[\"women-deptB-admit\"] = (25, 68)\n",
        "dist[\"women-deptC-admit\"] = (593, 34)\n",
        "dist[\"women-deptD-admit\"] = (375, 35)\n",
        "dist[\"women-deptE-admit\"] = (393, 24)\n",
        "dist[\"women-deptF-admit\"] = (341, 7)"
      ],
      "execution_count": null,
      "outputs": []
    },
    {
      "cell_type": "markdown",
      "metadata": {
        "id": "FMbQoCob2K7b",
        "colab_type": "text"
      },
      "source": [
        "We can compute summary statistics for the overall data distribution."
      ]
    },
    {
      "cell_type": "code",
      "metadata": {
        "id": "jSbT62dH2S3S",
        "colab_type": "code",
        "colab": {
          "base_uri": "https://localhost:8080/",
          "height": 51
        },
        "outputId": "71c1e062-49fd-4b21-d2ea-db8c690c671e"
      },
      "source": [
        "totalMen = 0\n",
        "totalWomen = 0\n",
        "totalMenAdmitted = 0\n",
        "totalWomenAdmitted = 0\n",
        "\n",
        "for sub_group in dist:\n",
        "  curGroup = sub_group.split(\"-\")\n",
        "  if curGroup[0] ==  \"men\":\n",
        "    totalMen += dist[sub_group][0]\n",
        "    #multiply admissions number by 0.01 to get percent, and then by # applicants to get total number admitted\n",
        "    totalMenAdmitted += dist[sub_group][1] * 0.01 * dist[sub_group][0]\n",
        "\n",
        "  elif curGroup[0] == \"women\":\n",
        "    totalWomen  += dist[sub_group][0]\n",
        "    totalWomenAdmitted += dist[sub_group][1] * 0.01 * dist[sub_group][0]\n",
        "\n",
        "\n",
        "print(\"{} men applied and {} men were admitted. {} women applied and {} women were admitted\".format(totalMen, round(totalMenAdmitted), totalWomen, round(totalWomenAdmitted)))\n",
        "print(\"Overall male admission rate = {maleAdmitP}. Overall female admission rate = {femaleAdmitP}\".format(maleAdmitP = round(totalMenAdmitted/totalMen, 2), femaleAdmitP = round(totalWomenAdmitted/totalWomen, 2)))"
      ],
      "execution_count": null,
      "outputs": [
        {
          "output_type": "stream",
          "text": [
            "2691 men applied and 1198 men were admitted. 1835 women applied and 557 women were admitted\n",
            "Overall male admission rate = 0.45. Overall female admission rate = 0.3\n"
          ],
          "name": "stdout"
        }
      ]
    },
    {
      "cell_type": "markdown",
      "metadata": {
        "id": "FSH_yQG66Mlf",
        "colab_type": "text"
      },
      "source": [
        "Next, we create a list in python which satisfies the various sub-group distributions, and shuffle it to make it look more authentic."
      ]
    },
    {
      "cell_type": "code",
      "metadata": {
        "id": "LGwLghZ56fKp",
        "colab_type": "code",
        "colab": {}
      },
      "source": [
        "reformatter = {\"men\": \"man\", \"women\": \"woman\"} #intended to make certain text nicer\n",
        "\n",
        "\n",
        "records = []\n",
        "for sub_group in dist:\n",
        "   gender, dept, admit_rate = sub_group.split(\"-\")\n",
        "   dept = dept.replace(\"dept\", \"\")\n",
        "   gender = reformatter[gender]\n",
        "   genderCode = \"\"\n",
        "   if gender == \"woman\" or gender == \"women\":\n",
        "     genderCode = \"F\"\n",
        "   elif gender == \"man\" or gender == \"men\":\n",
        "     genderCode = \"M\"\n",
        "\n",
        "   #we only stored admit percent. to get admit number, need to multiply admit percent by 0.01 and by number who applied\n",
        "   num_applicants, num_admits = dist[sub_group][0], round(dist[sub_group][1] * 0.01 * dist[sub_group][0])\n",
        "\n",
        "   not_admitted = num_applicants - num_admits\n",
        "   \n",
        "   for i in range(num_applicants):\n",
        "     unique_name = genderCode + str(i) + dept.replace(\"dept\",\"\")\n",
        "\n",
        "     if i < num_admits:\n",
        "        records.append([unique_name, genderCode, dept, \"Y\"]) #Y stands for admitted.\n",
        "     else:\n",
        "       records.append([unique_name, genderCode, dept, \"N\"])\n",
        "\n",
        "\n",
        "import random\n",
        "\n",
        "random.seed(10)\n",
        "random.shuffle(records)"
      ],
      "execution_count": null,
      "outputs": []
    },
    {
      "cell_type": "code",
      "metadata": {
        "id": "AJ3IgdkIi32P",
        "colab_type": "code",
        "colab": {
          "base_uri": "https://localhost:8080/",
          "height": 185
        },
        "outputId": "759b37c4-fe03-4c5a-c036-61c5728d3fc8"
      },
      "source": [
        "#print out records or save to csv\n",
        "for i in range(10):\n",
        "  print(records[i])"
      ],
      "execution_count": null,
      "outputs": [
        {
          "output_type": "stream",
          "text": [
            "['M46A', 'M', 'A', 'Y']\n",
            "['M364B', 'M', 'B', 'N']\n",
            "['M158A', 'M', 'A', 'Y']\n",
            "['M453B', 'M', 'B', 'N']\n",
            "['F248C', 'F', 'C', 'N']\n",
            "['M399A', 'M', 'A', 'Y']\n",
            "['M771A', 'M', 'A', 'N']\n",
            "['F97E', 'F', 'E', 'N']\n",
            "['M53D', 'M', 'D', 'Y']\n",
            "['M705A', 'M', 'A', 'N']\n"
          ],
          "name": "stdout"
        }
      ]
    },
    {
      "cell_type": "markdown",
      "metadata": {
        "id": "ITVea8ue-l2N",
        "colab_type": "text"
      },
      "source": [
        "Now, we store the data in a sqlite database for easy access"
      ]
    },
    {
      "cell_type": "code",
      "metadata": {
        "id": "pOvMpjp_-ruN",
        "colab_type": "code",
        "colab": {
          "base_uri": "https://localhost:8080/",
          "height": 50
        },
        "outputId": "f4a593b6-e649-4fee-c991-92d4a8be1790"
      },
      "source": [
        "\n",
        "import sqlite3\n",
        "\n",
        "\n",
        "make_table_statement = \"\"\"CREATE TABLE IF NOT EXISTS ADMISSIONS (\n",
        "  id integer PRIMARY KEY AUTOINCREMENT, \n",
        "  name text NOT NULL, \n",
        "  gender text NOT NULL, \n",
        "  department text NOT NULL, \n",
        "  decision text NOT NULL\n",
        ");\"\"\"\n",
        "\n",
        "try:\n",
        "    sqliteConnection = sqlite3.connect('SQLite_Python.db')\n",
        "    cursor = sqliteConnection.cursor()\n",
        "\n",
        "    cursor.execute(\"DROP TABLE IF EXISTS ADMISSIONS\") #clear the table and make fresh\n",
        "    cursor.execute(make_table_statement)\n",
        "    \n",
        "    print(\"Database created and Successfully Connected to SQLite\")\n",
        "    sqliteConnection.commit()\n",
        "\n",
        "\n",
        "    for record in records:\n",
        "      name, gender, department, decision = record[0], record[1], record[2], record[3]\n",
        "    \n",
        "    \n",
        "      \n",
        "      cursor.execute(\"INSERT INTO ADMISSIONS(name, gender, department, decision) VALUES(?,?,?,?)\", (name, gender, department, decision))\n",
        "    \n",
        "    sqliteConnection.commit()\n",
        "    cursor.close()\n",
        "    print(\"Done saving\")\n",
        "except:\n",
        "    print(\"DB operation failed\")\n",
        "    pass\n",
        "\n",
        "\n",
        "\n",
        "\n",
        "\n"
      ],
      "execution_count": null,
      "outputs": [
        {
          "output_type": "stream",
          "text": [
            "Database created and Successfully Connected to SQLite\n",
            "Done saving\n"
          ],
          "name": "stdout"
        }
      ]
    },
    {
      "cell_type": "markdown",
      "metadata": {
        "id": "P2h7KCTvclNs",
        "colab_type": "text"
      },
      "source": [
        "The database with the admissions table should have been successfully created at this point. You can download it and play with it using a DBMS. Here is one online: https://sqliteonline.com/"
      ]
    }
  ]
}